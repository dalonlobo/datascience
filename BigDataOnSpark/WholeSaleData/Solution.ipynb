{
 "cells": [
  {
   "cell_type": "markdown",
   "metadata": {},
   "source": [
    "# Subjective Quiz"
   ]
  },
  {
   "cell_type": "markdown",
   "metadata": {},
   "source": [
    "## Initialising spark session"
   ]
  },
  {
   "cell_type": "code",
   "execution_count": 1,
   "metadata": {
    "collapsed": true
   },
   "outputs": [],
   "source": [
    "from pyspark.sql import SparkSession # Importing SparkSession \n",
    "from pyspark.sql.types import IntegerType, StringType"
   ]
  },
  {
   "cell_type": "code",
   "execution_count": 2,
   "metadata": {
    "collapsed": false
   },
   "outputs": [],
   "source": [
    "# Initialising Spark session\n",
    "spark = SparkSession.builder.appName(\"WholeSaleCustDataParser\").getOrCreate()"
   ]
  },
  {
   "cell_type": "markdown",
   "metadata": {},
   "source": [
    "## Answer to Q1\n",
    "\n",
    "Reading csv file as data frame using spark."
   ]
  },
  {
   "cell_type": "code",
   "execution_count": 3,
   "metadata": {
    "collapsed": false
   },
   "outputs": [],
   "source": [
    "# The path where file exits\n",
    "filePath = \"Wholesale customers data.csv\"\n",
    "\n",
    "# customerDF = spark.read.csv(path=filePath, header=True, inferSchema=True, \n",
    "#                         ignoreLeadingWhiteSpace=True, ignoreTrailingWhiteSpace=True)\n",
    "\n",
    "# Because of following error, I've to specify the csv format using spark.read.format method\n",
    "# Error: Multiple sources found for csv (org.apache.spark.sql.execution.datasources.csv.CSVFileFormat,\n",
    "# com.databricks.spark.csv.DefaultSource15), please specify the fully qualified class name.\n",
    "\n",
    "customerDF = spark.read.format('com.databricks.spark.csv')\\\n",
    "               .option(\"header\", \"true\")\\\n",
    "               .load(filePath)\n"
   ]
  },
  {
   "cell_type": "code",
   "execution_count": 4,
   "metadata": {
    "collapsed": false
   },
   "outputs": [
    {
     "name": "stdout",
     "output_type": "stream",
     "text": [
      "+-------+------+-----+-----+-------+------+----------------+----------+\n",
      "|Channel|Region|Fresh| Milk|Grocery|Frozen|Detergents_Paper|Delicassen|\n",
      "+-------+------+-----+-----+-------+------+----------------+----------+\n",
      "|      2|     3|12669| 9656|   7561|   214|            2674|      1338|\n",
      "|      2|     3| 7057| 9810|   9568|  1762|            3293|      1776|\n",
      "|      2|     3| 6353| 8808|   7684|  2405|            3516|      7844|\n",
      "|      1|     3|13265| 1196|   4221|  6404|             507|      1788|\n",
      "|      2|     3|22615| 5410|   7198|  3915|            1777|      5185|\n",
      "|      2|     3| 9413| 8259|   5126|   666|            1795|      1451|\n",
      "|      2|     3|12126| 3199|   6975|   480|            3140|       545|\n",
      "|      2|     3| 7579| 4956|   9426|  1669|            3321|      2566|\n",
      "|      1|     3| 5963| 3648|   6192|   425|            1716|       750|\n",
      "|      2|     3| 6006|11093|  18881|  1159|            7425|      2098|\n",
      "+-------+------+-----+-----+-------+------+----------------+----------+\n",
      "only showing top 10 rows\n",
      "\n"
     ]
    }
   ],
   "source": [
    "customerDF.show(10)"
   ]
  },
  {
   "cell_type": "code",
   "execution_count": 5,
   "metadata": {
    "collapsed": false
   },
   "outputs": [
    {
     "name": "stdout",
     "output_type": "stream",
     "text": [
      "Spark Version: 2.0.2\n"
     ]
    }
   ],
   "source": [
    "# Just checking the spark version\n",
    "print(\"Spark Version: {}\".format(spark.version))"
   ]
  },
  {
   "cell_type": "markdown",
   "metadata": {},
   "source": [
    "## Answer to Q2\n",
    "\n",
    "See the schema of the DF."
   ]
  },
  {
   "cell_type": "code",
   "execution_count": 6,
   "metadata": {
    "collapsed": false
   },
   "outputs": [
    {
     "name": "stdout",
     "output_type": "stream",
     "text": [
      "root\n",
      " |-- Channel: string (nullable = true)\n",
      " |-- Region: string (nullable = true)\n",
      " |-- Fresh: string (nullable = true)\n",
      " |-- Milk: string (nullable = true)\n",
      " |-- Grocery: string (nullable = true)\n",
      " |-- Frozen: string (nullable = true)\n",
      " |-- Detergents_Paper: string (nullable = true)\n",
      " |-- Delicassen: string (nullable = true)\n",
      "\n"
     ]
    }
   ],
   "source": [
    "# Printing schema in readable format\n",
    "customerDF.printSchema()"
   ]
  },
  {
   "cell_type": "code",
   "execution_count": 7,
   "metadata": {
    "collapsed": false
   },
   "outputs": [
    {
     "data": {
      "text/plain": [
       "StructType(List(StructField(Channel,StringType,true),StructField(Region,StringType,true),StructField(Fresh,StringType,true),StructField(Milk,StringType,true),StructField(Grocery,StringType,true),StructField(Frozen,StringType,true),StructField(Detergents_Paper,StringType,true),StructField(Delicassen,StringType,true)))"
      ]
     },
     "execution_count": 7,
     "metadata": {},
     "output_type": "execute_result"
    }
   ],
   "source": [
    "# Alternate method to view schema\n",
    "customerDF.schema"
   ]
  },
  {
   "cell_type": "code",
   "execution_count": 8,
   "metadata": {
    "collapsed": false
   },
   "outputs": [],
   "source": [
    "# Changing the schema of columns\n",
    "\n",
    "for col in customerDF.columns:\n",
    "    customerDF = customerDF.withColumn(col, customerDF[col].cast(IntegerType()))"
   ]
  },
  {
   "cell_type": "code",
   "execution_count": 9,
   "metadata": {
    "collapsed": false
   },
   "outputs": [
    {
     "name": "stdout",
     "output_type": "stream",
     "text": [
      "root\n",
      " |-- Channel: integer (nullable = true)\n",
      " |-- Region: integer (nullable = true)\n",
      " |-- Fresh: integer (nullable = true)\n",
      " |-- Milk: integer (nullable = true)\n",
      " |-- Grocery: integer (nullable = true)\n",
      " |-- Frozen: integer (nullable = true)\n",
      " |-- Detergents_Paper: integer (nullable = true)\n",
      " |-- Delicassen: integer (nullable = true)\n",
      "\n"
     ]
    }
   ],
   "source": [
    "# Printing schema in readable format\n",
    "customerDF.printSchema()"
   ]
  },
  {
   "cell_type": "markdown",
   "metadata": {},
   "source": [
    "## Answer to Q3\n",
    "\n",
    "Use select to view a single column or a set of chosen columns."
   ]
  },
  {
   "cell_type": "code",
   "execution_count": 10,
   "metadata": {
    "collapsed": false
   },
   "outputs": [
    {
     "name": "stdout",
     "output_type": "stream",
     "text": [
      "+-----+\n",
      "|Fresh|\n",
      "+-----+\n",
      "|12669|\n",
      "| 7057|\n",
      "| 6353|\n",
      "|13265|\n",
      "|22615|\n",
      "| 9413|\n",
      "|12126|\n",
      "| 7579|\n",
      "| 5963|\n",
      "| 6006|\n",
      "+-----+\n",
      "only showing top 10 rows\n",
      "\n"
     ]
    }
   ],
   "source": [
    "# Select only the \"Fresh\" column\n",
    "customerDF.select(\"Fresh\").show(10)"
   ]
  },
  {
   "cell_type": "code",
   "execution_count": 11,
   "metadata": {
    "collapsed": false
   },
   "outputs": [
    {
     "name": "stdout",
     "output_type": "stream",
     "text": [
      "+-------+------+\n",
      "|Grocery|Frozen|\n",
      "+-------+------+\n",
      "|   7561|   214|\n",
      "|   9568|  1762|\n",
      "|   7684|  2405|\n",
      "|   4221|  6404|\n",
      "|   7198|  3915|\n",
      "|   5126|   666|\n",
      "|   6975|   480|\n",
      "|   9426|  1669|\n",
      "|   6192|   425|\n",
      "|  18881|  1159|\n",
      "+-------+------+\n",
      "only showing top 10 rows\n",
      "\n"
     ]
    }
   ],
   "source": [
    "# Selecting multiple columns: Grocery and Frozen\n",
    "customerDF.select(customerDF.Grocery, customerDF.Frozen).show(10)"
   ]
  },
  {
   "cell_type": "markdown",
   "metadata": {},
   "source": [
    "## Answer to Q4\n",
    "\n",
    "Use filter to see records with fresh sales more than 50000 only."
   ]
  },
  {
   "cell_type": "code",
   "execution_count": 12,
   "metadata": {
    "collapsed": false
   },
   "outputs": [
    {
     "name": "stdout",
     "output_type": "stream",
     "text": [
      "Number of filtered records: 7\n",
      "+-------+------+------+-----+-------+------+----------------+----------+\n",
      "|Channel|Region| Fresh| Milk|Grocery|Frozen|Detergents_Paper|Delicassen|\n",
      "+-------+------+------+-----+-------+------+----------------+----------+\n",
      "|      1|     3| 56159|  555|    902| 10002|             212|      2916|\n",
      "|      1|     3| 56082| 3504|   8906| 18028|            1480|      2498|\n",
      "|      1|     3| 76237| 3473|   7102| 16538|             778|       918|\n",
      "|      1|     3|112151|29627|  18148| 16745|            4948|      8550|\n",
      "|      1|     1| 56083| 4563|   2124|  6422|             730|      3321|\n",
      "|      1|     1| 53205| 4959|   7336|  3012|             967|       818|\n",
      "|      1|     3| 68951| 4411|  12609|  8692|             751|      2406|\n",
      "+-------+------+------+-----+-------+------+----------------+----------+\n",
      "\n"
     ]
    }
   ],
   "source": [
    "# fresh sales more than 50000\n",
    "filteredDF = customerDF.filter(customerDF.Fresh > 50000)\n",
    "\n",
    "# Checking if I can display all records on console\n",
    "noOfRows = filteredDF.count()\n",
    "print(\"Number of filtered records: {}\".format(noOfRows))\n",
    "\n",
    "filteredDF.show(noOfRows)"
   ]
  },
  {
   "cell_type": "markdown",
   "metadata": {},
   "source": [
    "## Answer to Q5\n",
    "\n",
    "Create aggregates on channels and regions variables."
   ]
  },
  {
   "cell_type": "code",
   "execution_count": 13,
   "metadata": {
    "collapsed": false
   },
   "outputs": [
    {
     "name": "stdout",
     "output_type": "stream",
     "text": [
      "+-------+-----+\n",
      "|Channel|count|\n",
      "+-------+-----+\n",
      "|      1|  298|\n",
      "|      2|  142|\n",
      "+-------+-----+\n",
      "\n",
      "+----------+\n",
      "|sum(count)|\n",
      "+----------+\n",
      "|       440|\n",
      "+----------+\n",
      "\n"
     ]
    }
   ],
   "source": [
    "# Aggregates on channels\n",
    "countChannel = customerDF.groupBy(customerDF.Channel).count()\n",
    "totalChannel = countChannel.agg({\"count\": \"sum\"})\n",
    "\n",
    "countChannel.show()\n",
    "totalChannel.show()"
   ]
  },
  {
   "cell_type": "code",
   "execution_count": 14,
   "metadata": {
    "collapsed": true
   },
   "outputs": [],
   "source": [
    "# Function to format and print\n",
    "def formattedPrint(classType, keys, rows, total):\n",
    "    print(\"{}|{}\".format(classType.center(15), \"Count\".center(15)))\n",
    "    print(\"-\" * 31)\n",
    "    for row in rows:\n",
    "        print(\"{}|{}\".format(keys[row[0]].center(15),\n",
    "                             str(row[\"count\"]).center(15)))\n",
    "    print(\"-\" * 31)\n",
    "    print(\"{}|{}\".format(\"Total\".center(15), \n",
    "                     str(total.first()[\"sum(count)\"]).center(15)))"
   ]
  },
  {
   "cell_type": "code",
   "execution_count": 15,
   "metadata": {
    "collapsed": false
   },
   "outputs": [
    {
     "name": "stdout",
     "output_type": "stream",
     "text": [
      "    Channel    |     Count     \n",
      "-------------------------------\n",
      "     Horeca    |      298      \n",
      "     Retail    |      142      \n",
      "-------------------------------\n",
      "     Total     |      440      \n"
     ]
    }
   ],
   "source": [
    "# Printing in readable format\n",
    "# customers Channel - Horeca (Hotel/Restaurant/Cafe) as 1 and \n",
    "#                   - Retail channel as 2\n",
    "channeldict = {1:\"Horeca\", 2:\"Retail\"}\n",
    "\n",
    "formattedPrint(\"Channel\", channeldict, countChannel.collect(), totalChannel)"
   ]
  },
  {
   "cell_type": "code",
   "execution_count": 16,
   "metadata": {
    "collapsed": false
   },
   "outputs": [
    {
     "name": "stdout",
     "output_type": "stream",
     "text": [
      "+------+-----+\n",
      "|Region|count|\n",
      "+------+-----+\n",
      "|     1|   77|\n",
      "|     2|   47|\n",
      "|     3|  316|\n",
      "+------+-----+\n",
      "\n",
      "+----------+\n",
      "|sum(count)|\n",
      "+----------+\n",
      "|       440|\n",
      "+----------+\n",
      "\n"
     ]
    }
   ],
   "source": [
    "# Aggregates on Regions\n",
    "countRegion = customerDF.groupBy(customerDF.Region).count().orderBy(\"Region\")\n",
    "totalRegion = countChannel.agg({\"count\": \"sum\"})\n",
    "\n",
    "countRegion.show()\n",
    "totalRegion.show()"
   ]
  },
  {
   "cell_type": "code",
   "execution_count": 17,
   "metadata": {
    "collapsed": false
   },
   "outputs": [
    {
     "name": "stdout",
     "output_type": "stream",
     "text": [
      "     Region    |     Count     \n",
      "-------------------------------\n",
      "     Lisbon    |       77      \n",
      "     Oporto    |       47      \n",
      "     Other     |      316      \n",
      "-------------------------------\n",
      "     Total     |      440      \n"
     ]
    }
   ],
   "source": [
    "# Printing in readable format\n",
    "# REGION: Lisbon as 1\n",
    "#         Oporto as 2\n",
    "#         Other  as 3\n",
    "regiondict = {1:\"Lisbon\", 2:\"Oporto\", 3:\"Other\"}\n",
    "\n",
    "formattedPrint(\"Region\", regiondict, countRegion.collect(), totalRegion)"
   ]
  },
  {
   "cell_type": "markdown",
   "metadata": {},
   "source": [
    "## Answer to Q6\n",
    "\n",
    "Use describe to see summary statistics on dataframe."
   ]
  },
  {
   "cell_type": "code",
   "execution_count": 18,
   "metadata": {
    "collapsed": false
   },
   "outputs": [],
   "source": [
    "import pandas\n",
    "colsToDescribe = ['Fresh', 'Milk', 'Grocery', 'Frozen', 'Detergents_Paper', 'Delicassen']\n",
    "describeData = customerDF.describe(colsToDescribe)"
   ]
  },
  {
   "cell_type": "code",
   "execution_count": 19,
   "metadata": {
    "collapsed": false
   },
   "outputs": [
    {
     "data": {
      "text/html": [
       "<div>\n",
       "<table border=\"1\" class=\"dataframe\">\n",
       "  <thead>\n",
       "    <tr style=\"text-align: right;\">\n",
       "      <th>summary</th>\n",
       "      <th>count</th>\n",
       "      <th>mean</th>\n",
       "      <th>stddev</th>\n",
       "      <th>min</th>\n",
       "      <th>max</th>\n",
       "    </tr>\n",
       "  </thead>\n",
       "  <tbody>\n",
       "    <tr>\n",
       "      <th>Fresh</th>\n",
       "      <td>440</td>\n",
       "      <td>12000.297727272728</td>\n",
       "      <td>12647.328865076885</td>\n",
       "      <td>3</td>\n",
       "      <td>112151</td>\n",
       "    </tr>\n",
       "    <tr>\n",
       "      <th>Milk</th>\n",
       "      <td>440</td>\n",
       "      <td>5796.265909090909</td>\n",
       "      <td>7380.3771745708445</td>\n",
       "      <td>55</td>\n",
       "      <td>73498</td>\n",
       "    </tr>\n",
       "    <tr>\n",
       "      <th>Grocery</th>\n",
       "      <td>440</td>\n",
       "      <td>7951.277272727273</td>\n",
       "      <td>9503.162828994346</td>\n",
       "      <td>3</td>\n",
       "      <td>92780</td>\n",
       "    </tr>\n",
       "    <tr>\n",
       "      <th>Frozen</th>\n",
       "      <td>440</td>\n",
       "      <td>3071.931818181818</td>\n",
       "      <td>4854.673332592367</td>\n",
       "      <td>25</td>\n",
       "      <td>60869</td>\n",
       "    </tr>\n",
       "    <tr>\n",
       "      <th>Detergents_Paper</th>\n",
       "      <td>440</td>\n",
       "      <td>2881.4931818181817</td>\n",
       "      <td>4767.854447904201</td>\n",
       "      <td>3</td>\n",
       "      <td>40827</td>\n",
       "    </tr>\n",
       "    <tr>\n",
       "      <th>Delicassen</th>\n",
       "      <td>440</td>\n",
       "      <td>1524.8704545454545</td>\n",
       "      <td>2820.1059373693965</td>\n",
       "      <td>3</td>\n",
       "      <td>47943</td>\n",
       "    </tr>\n",
       "  </tbody>\n",
       "</table>\n",
       "</div>"
      ],
      "text/plain": [
       "summary          count                mean              stddev min     max\n",
       "Fresh              440  12000.297727272728  12647.328865076885   3  112151\n",
       "Milk               440   5796.265909090909  7380.3771745708445  55   73498\n",
       "Grocery            440   7951.277272727273   9503.162828994346   3   92780\n",
       "Frozen             440   3071.931818181818   4854.673332592367  25   60869\n",
       "Detergents_Paper   440  2881.4931818181817   4767.854447904201   3   40827\n",
       "Delicassen         440  1524.8704545454545  2820.1059373693965   3   47943"
      ]
     },
     "execution_count": 19,
     "metadata": {},
     "output_type": "execute_result"
    }
   ],
   "source": [
    "# Changing to pandas dataframe so that I can transpose and display output of describe\n",
    "describeData.toPandas().set_index('summary').transpose()"
   ]
  },
  {
   "cell_type": "markdown",
   "metadata": {},
   "source": [
    "> #### Insights\n",
    "> - Sale of Fresh products is highest"
   ]
  },
  {
   "cell_type": "markdown",
   "metadata": {},
   "source": [
    "## Answer to Q7\n",
    "\n",
    "Change datatype of Channels to Strings."
   ]
  },
  {
   "cell_type": "code",
   "execution_count": 20,
   "metadata": {
    "collapsed": false
   },
   "outputs": [
    {
     "name": "stdout",
     "output_type": "stream",
     "text": [
      "root\n",
      " |-- Channel: string (nullable = true)\n",
      " |-- Region: integer (nullable = true)\n",
      " |-- Fresh: integer (nullable = true)\n",
      " |-- Milk: integer (nullable = true)\n",
      " |-- Grocery: integer (nullable = true)\n",
      " |-- Frozen: integer (nullable = true)\n",
      " |-- Detergents_Paper: integer (nullable = true)\n",
      " |-- Delicassen: integer (nullable = true)\n",
      "\n"
     ]
    }
   ],
   "source": [
    "# Changing datatype of channels\n",
    "customerDF.withColumn('Channel', \n",
    "                      customerDF.Channel.cast(StringType())).printSchema()"
   ]
  },
  {
   "cell_type": "markdown",
   "metadata": {},
   "source": [
    "## Answer to Q8\n",
    "\n",
    "Perform rollups on channels and regions."
   ]
  },
  {
   "cell_type": "code",
   "execution_count": 21,
   "metadata": {
    "collapsed": false
   },
   "outputs": [
    {
     "name": "stdout",
     "output_type": "stream",
     "text": [
      "+-------+------+-----+\n",
      "|Channel|Region|count|\n",
      "+-------+------+-----+\n",
      "|   null|  null|  440|\n",
      "|      1|  null|  298|\n",
      "|      1|     1|   59|\n",
      "|      1|     2|   28|\n",
      "|      1|     3|  211|\n",
      "|      2|  null|  142|\n",
      "|      2|     1|   18|\n",
      "|      2|     2|   19|\n",
      "|      2|     3|  105|\n",
      "+-------+------+-----+\n",
      "\n"
     ]
    }
   ],
   "source": [
    "# Performing rollup using dataframe rollup function.\n",
    "customerDF.rollup(\"Channel\", \"Region\").count().orderBy(\"Channel\", \"Region\").show()\n",
    "\n",
    "# Channel: Horeca (Hotel/Restaurant/Cafe) as 1 and \n",
    "#          Retail as 2\n",
    "# REGION: Lisbon as 1\n",
    "#         Oporto as 2\n",
    "#         Other  as 3"
   ]
  },
  {
   "cell_type": "markdown",
   "metadata": {},
   "source": [
    "> #### Insights\n",
    "> - The total clients of a wholesale distributor are 440 (Assuming each row is different client)\n",
    "> - 59 of these clients that are in Lisbon are either Hotel/Restaurant/Cafe and only 18 are Retail\n",
    "> - 28 of these clients that are in Oporto are either Hotel/Restaurant/Cafe and only 19 are Retail\n",
    "> - 211 of the remaining clients from Other regions are Hotel/Restaurant/Cafe and 105 are Retail\n",
    "----\n",
    "> Reference: Channel - Horeca (Hotel/Restaurant/Cafe) as 1 and Retail channel as 2; \n",
    "> REGION: Lisbon as 1, Oporto as 2 and Other  as 3"
   ]
  }
 ],
 "metadata": {
  "kernelspec": {
   "display_name": "Python [default]",
   "language": "python",
   "name": "python2"
  },
  "language_info": {
   "codemirror_mode": {
    "name": "ipython",
    "version": 2
   },
   "file_extension": ".py",
   "mimetype": "text/x-python",
   "name": "python",
   "nbconvert_exporter": "python",
   "pygments_lexer": "ipython2",
   "version": "2.7.13"
  }
 },
 "nbformat": 4,
 "nbformat_minor": 2
}
